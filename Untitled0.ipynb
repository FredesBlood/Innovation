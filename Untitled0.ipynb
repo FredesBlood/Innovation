{
  "nbformat": 4,
  "nbformat_minor": 0,
  "metadata": {
    "colab": {
      "provenance": [],
      "authorship_tag": "ABX9TyMxdgg/hmPRwnwVoQ9oGsWs",
      "include_colab_link": true
    },
    "kernelspec": {
      "name": "python3",
      "display_name": "Python 3"
    },
    "language_info": {
      "name": "python"
    }
  },
  "cells": [
    {
      "cell_type": "markdown",
      "metadata": {
        "id": "view-in-github",
        "colab_type": "text"
      },
      "source": [
        "<a href=\"https://colab.research.google.com/github/FredesBlood/Innovation/blob/main/Untitled0.ipynb\" target=\"_parent\"><img src=\"https://colab.research.google.com/assets/colab-badge.svg\" alt=\"Open In Colab\"/></a>"
      ]
    },
    {
      "cell_type": "markdown",
      "source": [
        "# ¿Que somos ?\n"
      ],
      "metadata": {
        "id": "6jRn84_23__S"
      }
    },
    {
      "cell_type": "markdown",
      "source": [
        "Somos una iniciativa de Samsung a nivel global enfocada en empoderar a toda una generación con habilidades 4.0 en un contexto impulsado por la tecnología"
      ],
      "metadata": {
        "id": "mKvoVbHZ4uA2"
      }
    },
    {
      "cell_type": "markdown",
      "source": [],
      "metadata": {
        "id": "3kbTwTpW4zQY"
      }
    },
    {
      "cell_type": "markdown",
      "source": [
        "># +500\n",
        ">jóvenes chilenos certificados desde 2020 en competencias de codificación, programación, big data, IoT e inteligencia artificial"
      ],
      "metadata": {
        "id": "Nz6b3Cwo46qh"
      }
    },
    {
      "cell_type": "markdown",
      "source": [
        "**Samsung Innovation Campus Chile** es un programa intensivo de Samsung que entrega competencias en IA, Big Data y programación. Junto a la **ONG Innovacien hemos certificado a cientos de jóvenes desde 2020"
      ],
      "metadata": {
        "id": "fuxELb3u5h2v"
      }
    },
    {
      "cell_type": "markdown",
      "source": [
        "![mi_imagen](https://innovationcampus.cl/wp-content/uploads/2025/05/Estudiantes-SIC-1.jpg)"
      ],
      "metadata": {
        "id": "59dCoAeONFDI"
      }
    }
  ]
}